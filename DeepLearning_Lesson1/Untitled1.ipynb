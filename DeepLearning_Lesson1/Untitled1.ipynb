{
 "cells": [
  {
   "cell_type": "code",
   "execution_count": 15,
   "metadata": {},
   "outputs": [],
   "source": [
    "import pandas\n",
    "from keras.models import Sequential\n",
    "from keras.layers.core import Dense, Activation"
   ]
  },
  {
   "cell_type": "code",
   "execution_count": 16,
   "metadata": {},
   "outputs": [],
   "source": [
    "from sklearn.model_selection import train_test_split\n",
    "import pandas as pd"
   ]
  },
  {
   "cell_type": "code",
   "execution_count": 17,
   "metadata": {},
   "outputs": [],
   "source": [
    "dataset = pd.read_csv(\"Breas Cancer.csv\")"
   ]
  },
  {
   "cell_type": "code",
   "execution_count": 18,
   "metadata": {},
   "outputs": [],
   "source": [
    "dataset.diagnosis = dataset.diagnosis.replace({\"M\": 1,\"B\": 0})"
   ]
  },
  {
   "cell_type": "code",
   "execution_count": 19,
   "metadata": {},
   "outputs": [
    {
     "name": "stdout",
     "output_type": "stream",
     "text": [
      "[[8.4230200e+05 1.0000000e+00 1.7990000e+01 ... 4.6010000e-01\n",
      "  1.1890000e-01           nan]\n",
      " [8.4251700e+05 1.0000000e+00 2.0570000e+01 ... 2.7500000e-01\n",
      "  8.9020000e-02           nan]\n",
      " [8.4300903e+07 1.0000000e+00 1.9690000e+01 ... 3.6130000e-01\n",
      "  8.7580000e-02           nan]\n",
      " ...\n",
      " [9.2695400e+05 1.0000000e+00 1.6600000e+01 ... 2.2180000e-01\n",
      "  7.8200000e-02           nan]\n",
      " [9.2724100e+05 1.0000000e+00 2.0600000e+01 ... 4.0870000e-01\n",
      "  1.2400000e-01           nan]\n",
      " [9.2751000e+04 0.0000000e+00 7.7600000e+00 ... 2.8710000e-01\n",
      "  7.0390000e-02           nan]]\n"
     ]
    }
   ],
   "source": [
    "import numpy as np\n",
    "dataset=dataset.values\n",
    "print(dataset)"
   ]
  },
  {
   "cell_type": "code",
   "execution_count": 22,
   "metadata": {},
   "outputs": [
    {
     "name": "stdout",
     "output_type": "stream",
     "text": [
      "_________________________________________________________________\n",
      "Layer (type)                 Output Shape              Param #   \n",
      "=================================================================\n",
      "dense_9 (Dense)              (None, 20)                620       \n",
      "_________________________________________________________________\n",
      "dense_10 (Dense)             (None, 1)                 21        \n",
      "=================================================================\n",
      "Total params: 641\n",
      "Trainable params: 641\n",
      "Non-trainable params: 0\n",
      "_________________________________________________________________\n",
      "None\n",
      "10.368124928507772\n"
     ]
    }
   ],
   "source": [
    "X_train, X_test, Y_train, Y_test = train_test_split(dataset[:,2:-1], dataset[:,1],test_size=0.25, random_state=87)\n",
    "np.random.seed(155)\n",
    "my_first_nn = Sequential() # create model\n",
    "my_first_nn.add(Dense(20, input_dim=30, activation='relu')) # hidden layer\n",
    "my_first_nn.add(Dense(1, activation='sigmoid')) # output layer\n",
    "my_first_nn.compile(loss='binary_crossentropy', optimizer='adam')\n",
    "my_first_nn_fitted = my_first_nn.fit(X_train, Y_train, epochs=100, verbose=0,\n",
    "                                     initial_epoch=0)\n",
    "print(my_first_nn.summary())\n",
    "print(my_first_nn.evaluate(X_test, Y_test, verbose=0))\n"
   ]
  },
  {
   "cell_type": "code",
   "execution_count": null,
   "metadata": {},
   "outputs": [],
   "source": []
  }
 ],
 "metadata": {
  "kernelspec": {
   "display_name": "Python 3",
   "language": "python",
   "name": "python3"
  },
  "language_info": {
   "codemirror_mode": {
    "name": "ipython",
    "version": 3
   },
   "file_extension": ".py",
   "mimetype": "text/x-python",
   "name": "python",
   "nbconvert_exporter": "python",
   "pygments_lexer": "ipython3",
   "version": "3.7.3"
  }
 },
 "nbformat": 4,
 "nbformat_minor": 2
}
